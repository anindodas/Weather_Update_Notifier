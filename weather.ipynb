{
 "cells": [
  {
   "cell_type": "markdown",
   "id": "6a48edde",
   "metadata": {},
   "source": [
    "# WEATHER FORECAST\n",
    "*********\n",
    "#### To run this Python script follow the below installation\n",
    "     $ pip install pywebio"
   ]
  },
  {
   "cell_type": "markdown",
   "id": "1c27c62a",
   "metadata": {},
   "source": [
    "*****\n",
    "### Step #1:\n",
    "* Firstly, get the **API** key from [**OpenWeather.org**](https://openweathermap.org/api) to begin extracting data.\n",
    "* User need to create an account on [**OpenWeather.org**](https://openweathermap.org/api), then only can use the APIs.\n",
    "* import following **modules**"
   ]
  },
  {
   "cell_type": "code",
   "execution_count": 1,
   "id": "1baff18a",
   "metadata": {},
   "outputs": [],
   "source": [
    "import requests\n",
    "import math\n",
    "import time\n",
    "from pywebio.input import *\n",
    "from pywebio.output import *\n",
    "from pywebio.session import *"
   ]
  },
  {
   "cell_type": "markdown",
   "id": "a0119ba4",
   "metadata": {},
   "source": [
    "* Initializing variables for **API** key and **Base URL**."
   ]
  },
  {
   "cell_type": "code",
   "execution_count": 2,
   "id": "04af9fff",
   "metadata": {},
   "outputs": [],
   "source": [
    "api_key = \"Your API Key\"\n",
    "base_url = \"https://api.openweathermap.org/data/2.5/weather?\""
   ]
  },
  {
   "cell_type": "markdown",
   "id": "9c2e0877",
   "metadata": {},
   "source": [
    "* Taking **City name** as input and **check** whether city name is valid or not, and **required=True** means field can't be empty."
   ]
  },
  {
   "cell_type": "code",
   "execution_count": null,
   "id": "9e621680",
   "metadata": {},
   "outputs": [],
   "source": [
    "City = input(\"City: \", required=True, validate=Check)"
   ]
  },
  {
   "cell_type": "markdown",
   "id": "a9403b56",
   "metadata": {},
   "source": [
    "*****\n",
    "### Step #2:\n",
    "* Function to check whether **City** name is valid or not.\n",
    "  * At first, complete the URL using **Base URL**, **API Key**, and **City** name.\n",
    "  * Use **request** module to get the Data from the **URL**.\n",
    "  * Use **response.json()** to access certain features like **cod**, **main**, and so on.\n",
    "  * Check If **city** exists or not."
   ]
  },
  {
   "cell_type": "code",
   "execution_count": null,
   "id": "1edee7c5",
   "metadata": {},
   "outputs": [],
   "source": [
    "def Check(City):\n",
    "    complete_url = f\"{base_url}appid={api_key}&q={City}\"\n",
    "    response = requests.get(complete_url)\n",
    "    temp = response.json()\n",
    "    if temp[\"cod\"] == \"404\":\n",
    "        return \"City not found, Try searching...\"\n",
    "    return None"
   ]
  },
  {
   "cell_type": "markdown",
   "id": "c131f1ae",
   "metadata": {},
   "source": [
    "*****\n",
    "### Step #3:\n",
    "* Extracting all the data including **Temperature**, **Pressure**, **Humidity**, **Weather**, and **Description**."
   ]
  },
  {
   "cell_type": "code",
   "execution_count": null,
   "id": "036123a9",
   "metadata": {},
   "outputs": [],
   "source": [
    "Res = temp[\"main\"]\n",
    "current_temperature = Res[\"temp\"]\n",
    "curr = current_temperature-273.15\n",
    "current_pressure = Res[\"pressure\"]\n",
    "current_humidiy = Res[\"humidity\"]\n",
    "Descrip = temp[\"weather\"]\n",
    "weather_description = Descrip[0][\"description\"]"
   ]
  },
  {
   "cell_type": "markdown",
   "id": "496f3e2a",
   "metadata": {},
   "source": [
    "* **Display** all the Data with **POP-UP** window."
   ]
  },
  {
   "cell_type": "code",
   "execution_count": null,
   "id": "8490d3dc",
   "metadata": {},
   "outputs": [],
   "source": [
    " popup(f\"{City.title()} Weather\", [put_html(\"<h4>\"f\"Temperature: {math.ceil(curr)}{chr(176)}C</br>Atmospheric Pressure: {current_pressure} hpa</br>Humidity: {current_humidiy}%</br>Description: {weather_description.title()}\"\"</h4>\"), put_buttons(\n",
    "            ['Close'], onclick=lambda _: close_popup())], implicit_close=True)"
   ]
  },
  {
   "cell_type": "markdown",
   "id": "60a13b10",
   "metadata": {},
   "source": [
    "# Complete Code: "
   ]
  },
  {
   "cell_type": "code",
   "execution_count": null,
   "id": "dbb0b30c",
   "metadata": {},
   "outputs": [],
   "source": [
    "import requests\n",
    "import math\n",
    "import time\n",
    "from pywebio.input import *\n",
    "from pywebio.output import *\n",
    "from pywebio.session import *\n",
    "\n",
    "api_key = \"88d279a5ff5fcd8e338ab42d94c819c3\"\n",
    "base_url = \"https://api.openweathermap.org/data/2.5/weather?\"\n",
    "\n",
    "\n",
    "def logo():\n",
    "    put_html(\"<p align=\"\"left\"\"><h4><img src=\"\"https://icons.iconarchive.com/icons/pixelkit/flat-jewels/128/Weather-icon.png\"\" width=\"\"28px\"\"> Weather Forecast</h4></p>\")\n",
    "\n",
    "\n",
    "def Check(City):\n",
    "    complete_url = f\"{base_url}appid={api_key}&q={City}\"\n",
    "    response = requests.get(complete_url)\n",
    "    temp = response.json()\n",
    "    if temp[\"cod\"] == \"404\":\n",
    "        return \"City not found, Try searching...\"\n",
    "    return None\n",
    "\n",
    "\n",
    "toast('WEATHER FORECAST', position='center',\n",
    "      color='#4C3813', duration=3, onclick=clear)\n",
    "time.sleep(3)\n",
    "\n",
    "if __name__ == '__main__':\n",
    "    while 1:\n",
    "        clear()\n",
    "        put_image(\n",
    "            \"https://icons.iconarchive.com/icons/pixelkit/flat-jewels/128/Weather-icon.png\")\n",
    "        City = input(\"\", placeholder=\"City name\",\n",
    "                     required=True, validate=Check)\n",
    "        clear()\n",
    "        logo()\n",
    "        put_html(\"<p align=\"\"center\"\"><img src=\"\"https://media.tenor.com/images/ed2c4fc16fcd23c5ad71cd8e802cd9a1/tenor.gif\"\" width=\"\"90px\"\"></p>\")\n",
    "        time.sleep(3)\n",
    "        clear()\n",
    "        complete_url = f\"{base_url}appid={api_key}&q={City}\"\n",
    "        response = requests.get(complete_url)\n",
    "        temp = response.json()\n",
    "        Res = temp[\"main\"]\n",
    "        current_temperature = Res[\"temp\"]\n",
    "        curr = current_temperature-273.15\n",
    "        current_pressure = Res[\"pressure\"]\n",
    "        current_humidiy = Res[\"humidity\"]\n",
    "        Descrip = temp[\"weather\"]\n",
    "        weather_description = Descrip[0][\"description\"]\n",
    "        popup(f\"{City.title()} Weather\", [put_html(\"<h4>\"f\"Temperature: {math.ceil(curr)}{chr(176)}C</br>Atmospheric Pressure: {current_pressure} hpa</br>Humidity: {current_humidiy}%</br>Description: {weather_description.title()}\"\"</h4>\"), put_buttons(\n",
    "            ['Close'], onclick=lambda _: close_popup())], implicit_close=True)\n",
    "        clear()\n",
    "        a = radio(\"Do you want to search again?\",\n",
    "                  options=['Yes', 'No'], required=True)\n",
    "        if a == 'Yes':\n",
    "            continue\n",
    "        else:\n",
    "            toast(\"Thanks a lot!\")\n",
    "            exit()"
   ]
  },
  {
   "cell_type": "markdown",
   "id": "2b363b70",
   "metadata": {},
   "source": [
    "## Happy coding!\n",
    "\n",
    "____________________________\n",
    "<p><b>&copy;</b> 2021 Satyam Tripathi</p>"
   ]
  }
 ],
 "metadata": {
  "kernelspec": {
   "display_name": "Python 3",
   "language": "python",
   "name": "python3"
  },
  "language_info": {
   "codemirror_mode": {
    "name": "ipython",
    "version": 3
   },
   "file_extension": ".py",
   "mimetype": "text/x-python",
   "name": "python",
   "nbconvert_exporter": "python",
   "pygments_lexer": "ipython3",
   "version": "3.8.3"
  }
 },
 "nbformat": 4,
 "nbformat_minor": 5
}
